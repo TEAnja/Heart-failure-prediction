{
 "cells": [
  {
   "cell_type": "code",
   "execution_count": 2,
   "id": "289af4b2",
   "metadata": {},
   "outputs": [],
   "source": [
    "#IMPORTS\n",
    "import numpy as np\n",
    "import pandas as pd\n",
    "\n",
    "import tensorflow as tf\n",
    "from tensorflow import feature_column\n",
    "from tensorflow.keras import layers\n",
    "\n",
    "from sklearn.model_selection import train_test_split"
   ]
  },
  {
   "cell_type": "code",
   "execution_count": 4,
   "id": "f4e134ad",
   "metadata": {},
   "outputs": [
    {
     "data": {
      "text/html": [
       "<div>\n",
       "<style scoped>\n",
       "    .dataframe tbody tr th:only-of-type {\n",
       "        vertical-align: middle;\n",
       "    }\n",
       "\n",
       "    .dataframe tbody tr th {\n",
       "        vertical-align: top;\n",
       "    }\n",
       "\n",
       "    .dataframe thead th {\n",
       "        text-align: right;\n",
       "    }\n",
       "</style>\n",
       "<table border=\"1\" class=\"dataframe\">\n",
       "  <thead>\n",
       "    <tr style=\"text-align: right;\">\n",
       "      <th></th>\n",
       "      <th>age</th>\n",
       "      <th>anaemia</th>\n",
       "      <th>creatinine_phosphokinase</th>\n",
       "      <th>diabetes</th>\n",
       "      <th>ejection_fraction</th>\n",
       "      <th>high_blood_pressure</th>\n",
       "      <th>platelets</th>\n",
       "      <th>serum_creatinine</th>\n",
       "      <th>serum_sodium</th>\n",
       "      <th>sex</th>\n",
       "      <th>smoking</th>\n",
       "      <th>time</th>\n",
       "      <th>DEATH_EVENT</th>\n",
       "    </tr>\n",
       "  </thead>\n",
       "  <tbody>\n",
       "    <tr>\n",
       "      <th>0</th>\n",
       "      <td>75.0</td>\n",
       "      <td>0</td>\n",
       "      <td>582</td>\n",
       "      <td>0</td>\n",
       "      <td>20</td>\n",
       "      <td>1</td>\n",
       "      <td>265000.00</td>\n",
       "      <td>1.9</td>\n",
       "      <td>130</td>\n",
       "      <td>1</td>\n",
       "      <td>0</td>\n",
       "      <td>4</td>\n",
       "      <td>1</td>\n",
       "    </tr>\n",
       "    <tr>\n",
       "      <th>1</th>\n",
       "      <td>55.0</td>\n",
       "      <td>0</td>\n",
       "      <td>7861</td>\n",
       "      <td>0</td>\n",
       "      <td>38</td>\n",
       "      <td>0</td>\n",
       "      <td>263358.03</td>\n",
       "      <td>1.1</td>\n",
       "      <td>136</td>\n",
       "      <td>1</td>\n",
       "      <td>0</td>\n",
       "      <td>6</td>\n",
       "      <td>1</td>\n",
       "    </tr>\n",
       "    <tr>\n",
       "      <th>2</th>\n",
       "      <td>65.0</td>\n",
       "      <td>0</td>\n",
       "      <td>146</td>\n",
       "      <td>0</td>\n",
       "      <td>20</td>\n",
       "      <td>0</td>\n",
       "      <td>162000.00</td>\n",
       "      <td>1.3</td>\n",
       "      <td>129</td>\n",
       "      <td>1</td>\n",
       "      <td>1</td>\n",
       "      <td>7</td>\n",
       "      <td>1</td>\n",
       "    </tr>\n",
       "    <tr>\n",
       "      <th>3</th>\n",
       "      <td>50.0</td>\n",
       "      <td>1</td>\n",
       "      <td>111</td>\n",
       "      <td>0</td>\n",
       "      <td>20</td>\n",
       "      <td>0</td>\n",
       "      <td>210000.00</td>\n",
       "      <td>1.9</td>\n",
       "      <td>137</td>\n",
       "      <td>1</td>\n",
       "      <td>0</td>\n",
       "      <td>7</td>\n",
       "      <td>1</td>\n",
       "    </tr>\n",
       "    <tr>\n",
       "      <th>4</th>\n",
       "      <td>65.0</td>\n",
       "      <td>1</td>\n",
       "      <td>160</td>\n",
       "      <td>1</td>\n",
       "      <td>20</td>\n",
       "      <td>0</td>\n",
       "      <td>327000.00</td>\n",
       "      <td>2.7</td>\n",
       "      <td>116</td>\n",
       "      <td>0</td>\n",
       "      <td>0</td>\n",
       "      <td>8</td>\n",
       "      <td>1</td>\n",
       "    </tr>\n",
       "  </tbody>\n",
       "</table>\n",
       "</div>"
      ],
      "text/plain": [
       "    age  anaemia  creatinine_phosphokinase  diabetes  ejection_fraction  \\\n",
       "0  75.0        0                       582         0                 20   \n",
       "1  55.0        0                      7861         0                 38   \n",
       "2  65.0        0                       146         0                 20   \n",
       "3  50.0        1                       111         0                 20   \n",
       "4  65.0        1                       160         1                 20   \n",
       "\n",
       "   high_blood_pressure  platelets  serum_creatinine  serum_sodium  sex  \\\n",
       "0                    1  265000.00               1.9           130    1   \n",
       "1                    0  263358.03               1.1           136    1   \n",
       "2                    0  162000.00               1.3           129    1   \n",
       "3                    0  210000.00               1.9           137    1   \n",
       "4                    0  327000.00               2.7           116    0   \n",
       "\n",
       "   smoking  time  DEATH_EVENT  \n",
       "0        0     4            1  \n",
       "1        0     6            1  \n",
       "2        1     7            1  \n",
       "3        0     7            1  \n",
       "4        0     8            1  "
      ]
     },
     "execution_count": 4,
     "metadata": {},
     "output_type": "execute_result"
    }
   ],
   "source": [
    "#READ IN THE DATA\n",
    "dataframe = pd.read_csv(\"heart_failure_clinical_records_dataset.csv\")\n",
    "dataframe.head()"
   ]
  },
  {
   "cell_type": "code",
   "execution_count": 6,
   "id": "3f36be01",
   "metadata": {},
   "outputs": [
    {
     "name": "stdout",
     "output_type": "stream",
     "text": [
      "191 train examples\n",
      "48 validation examples\n",
      "60 test examples\n"
     ]
    }
   ],
   "source": [
    "#SPLIT THE DATASET INTO TRAIN, VALIDATION AND TEST SETS\n",
    "train, test = train_test_split(dataframe, test_size=0.2)\n",
    "train, valid = train_test_split(train, test_size=0.2)\n",
    "print(len(train), 'train examples')\n",
    "print(len(valid), 'validation examples')\n",
    "print(len(test), 'test examples')"
   ]
  },
  {
   "cell_type": "code",
   "execution_count": 8,
   "id": "4562ee79",
   "metadata": {},
   "outputs": [],
   "source": [
    "#Creating an input pipeline using tf.data\n",
    "#wrapping the dataframe with tf.data, this enables us to use feature columns as a bridge\n",
    "#to map from the columns in the Pandas dataframe to features used to train the model.\n",
    "\n",
    "def df_to_dataset(dataframe, shuffle=True, batch_size=32):\n",
    "    dataframe = dataframe.copy()\n",
    "    labels = dataframe.pop('DEATH_EVENT')\n",
    "    ds = tf.data.Dataset.from_tensor_slices((dict(dataframe), labels))\n",
    "    if shuffle:\n",
    "        ds = ds.shuffle(buffer_size=len(dataframe))\n",
    "    ds = ds.batch(batch_size)\n",
    "    return ds\n",
    "\n",
    "batch_size = 5\n",
    "train_ds = df_to_dataset(train, batch_size=batch_size)\n",
    "valid_ds = df_to_dataset(valid, batch_size=batch_size)\n",
    "test_ds = df_to_dataset(test, batch_size=batch_size)"
   ]
  },
  {
   "cell_type": "code",
   "execution_count": 10,
   "id": "128061c8",
   "metadata": {},
   "outputs": [
    {
     "name": "stdout",
     "output_type": "stream",
     "text": [
      "Features: ['age', 'anaemia', 'creatinine_phosphokinase', 'diabetes', 'ejection_fraction', 'high_blood_pressure', 'platelets', 'serum_creatinine', 'serum_sodium', 'sex', 'smoking', 'time']\n",
      "A batch of ages: tf.Tensor([72. 72. 53. 49. 75.], shape=(5,), dtype=float64)\n",
      "A batch of targets: tf.Tensor([1 1 0 1 1], shape=(5,), dtype=int64)\n"
     ]
    }
   ],
   "source": [
    "#what does it return?\n",
    "for feature_batch, label_batch in train_ds.take(1):\n",
    "    print('Features:', list(feature_batch.keys()))\n",
    "    print('A batch of ages:', feature_batch['age'])\n",
    "    print('A batch of targets:', label_batch)"
   ]
  },
  {
   "cell_type": "code",
   "execution_count": 15,
   "id": "81dff0c1",
   "metadata": {},
   "outputs": [],
   "source": [
    "#The output of a feature column becomes the input to the model.\n",
    "#NUMERIC COLUMNS\n",
    "creatinine_count = feature_column.numeric_column('creatinine_phosphokinase')\n"
   ]
  },
  {
   "cell_type": "code",
   "execution_count": 17,
   "id": "228b69d2",
   "metadata": {},
   "outputs": [],
   "source": [
    "#BUCKETIZED COLUMNS: we don't want to feed some numbers directly into the model, but instead split its value into categories of numerical ranges.\n",
    "#AGE\n",
    "age = feature_column.numeric_column('age')\n",
    "age_buckets = feature_column.bucketized_column(age, boundaries=[45, 60, 75])\n",
    "\n",
    "#creatinine_phosphokinase\n",
    "cre = feature_column.numeric_column('creatinine_phosphokinase')\n",
    "cre_buckets = feature_column.bucketized_column(cre, boundaries=[115, 250, 582])\n",
    "\n",
    "#ejection_fraction\n",
    "eje = feature_column.numeric_column('ejection_fraction')\n",
    "eje_buckets = feature_column.bucketized_column(eje, boundaries=[30, 38, 45])\n",
    "\n",
    "#platelets\n",
    "pla = feature_column.numeric_column('platelets')\n",
    "pla_buckets = feature_column.bucketized_column(pla, boundaries=[212000, 262000, 304000])\n",
    "\n",
    "#serum_creatinine\n",
    "ser_cre = feature_column.numeric_column('serum_creatinine')\n",
    "ser_cre_buckets = feature_column.bucketized_column(ser_cre, boundaries=[0.9, 1.1, 1.4])\n",
    "\n",
    "#serum_sodium\n",
    "ser_sod = feature_column.numeric_column('serum_sodium')\n",
    "ser_sod_buckets = feature_column.bucketized_column(ser_sod, boundaries=[134, 137, 140])\n",
    "\n",
    "#time (Follow-up period (days))\n",
    "time = feature_column.numeric_column('time')\n",
    "time_buckets = feature_column.bucketized_column(time, boundaries=[73, 115, 205])\n"
   ]
  },
  {
   "cell_type": "code",
   "execution_count": 19,
   "id": "3151b8a1",
   "metadata": {},
   "outputs": [],
   "source": [
    "#CHOOSE WHICH COLUMNS TO USE\n",
    "feature_columns = []\n",
    "\n",
    "#numeric columns\n",
    "for header in ['anaemia', 'diabetes', 'high_blood_pressure', 'sex', 'smoking']:\n",
    "    feature_columns.append(feature_column.numeric_column(header))\n",
    "\n",
    "#bucketized columns\n",
    "for buckets in (age_buckets, cre_buckets, eje_buckets, pla_buckets, ser_cre_buckets, ser_sod_buckets, time_buckets):\n",
    "    feature_columns.append(buckets)\n"
   ]
  },
  {
   "cell_type": "code",
   "execution_count": 21,
   "id": "4019d419",
   "metadata": {},
   "outputs": [],
   "source": [
    "#CREATE A FEATURE LAYER\n",
    "feature_layer = tf.keras.layers.DenseFeatures(feature_columns)\n",
    "\n",
    "#new input pipeline with larger batch size\n",
    "batch_size = 32\n",
    "train_ds = df_to_dataset(train, batch_size=batch_size)\n",
    "valid_ds = df_to_dataset(valid, batch_size=batch_size)\n",
    "test_ds = df_to_dataset(test, batch_size=batch_size)"
   ]
  },
  {
   "cell_type": "code",
   "execution_count": 23,
   "id": "6a32affc",
   "metadata": {},
   "outputs": [
    {
     "name": "stdout",
     "output_type": "stream",
     "text": [
      "Epoch 1/15\n",
      "WARNING:tensorflow:Layers in a Sequential model should only have a single input tensor, but we receive a <class 'dict'> input: {'age': <tf.Tensor 'ExpandDims:0' shape=(None, 1) dtype=float64>, 'anaemia': <tf.Tensor 'ExpandDims_1:0' shape=(None, 1) dtype=int64>, 'creatinine_phosphokinase': <tf.Tensor 'ExpandDims_2:0' shape=(None, 1) dtype=int64>, 'diabetes': <tf.Tensor 'ExpandDims_3:0' shape=(None, 1) dtype=int64>, 'ejection_fraction': <tf.Tensor 'ExpandDims_4:0' shape=(None, 1) dtype=int64>, 'high_blood_pressure': <tf.Tensor 'ExpandDims_5:0' shape=(None, 1) dtype=int64>, 'platelets': <tf.Tensor 'ExpandDims_6:0' shape=(None, 1) dtype=float64>, 'serum_creatinine': <tf.Tensor 'ExpandDims_7:0' shape=(None, 1) dtype=float64>, 'serum_sodium': <tf.Tensor 'ExpandDims_8:0' shape=(None, 1) dtype=int64>, 'sex': <tf.Tensor 'ExpandDims_9:0' shape=(None, 1) dtype=int64>, 'smoking': <tf.Tensor 'ExpandDims_10:0' shape=(None, 1) dtype=int64>, 'time': <tf.Tensor 'ExpandDims_11:0' shape=(None, 1) dtype=int64>}\n",
      "Consider rewriting this model with the Functional API.\n",
      "WARNING:tensorflow:Layers in a Sequential model should only have a single input tensor, but we receive a <class 'dict'> input: {'age': <tf.Tensor 'ExpandDims:0' shape=(None, 1) dtype=float64>, 'anaemia': <tf.Tensor 'ExpandDims_1:0' shape=(None, 1) dtype=int64>, 'creatinine_phosphokinase': <tf.Tensor 'ExpandDims_2:0' shape=(None, 1) dtype=int64>, 'diabetes': <tf.Tensor 'ExpandDims_3:0' shape=(None, 1) dtype=int64>, 'ejection_fraction': <tf.Tensor 'ExpandDims_4:0' shape=(None, 1) dtype=int64>, 'high_blood_pressure': <tf.Tensor 'ExpandDims_5:0' shape=(None, 1) dtype=int64>, 'platelets': <tf.Tensor 'ExpandDims_6:0' shape=(None, 1) dtype=float64>, 'serum_creatinine': <tf.Tensor 'ExpandDims_7:0' shape=(None, 1) dtype=float64>, 'serum_sodium': <tf.Tensor 'ExpandDims_8:0' shape=(None, 1) dtype=int64>, 'sex': <tf.Tensor 'ExpandDims_9:0' shape=(None, 1) dtype=int64>, 'smoking': <tf.Tensor 'ExpandDims_10:0' shape=(None, 1) dtype=int64>, 'time': <tf.Tensor 'ExpandDims_11:0' shape=(None, 1) dtype=int64>}\n",
      "Consider rewriting this model with the Functional API.\n",
      "1/6 [====>.........................] - ETA: 3s - loss: 0.7179 - accuracy: 0.5938WARNING:tensorflow:Layers in a Sequential model should only have a single input tensor, but we receive a <class 'dict'> input: {'age': <tf.Tensor 'ExpandDims:0' shape=(None, 1) dtype=float64>, 'anaemia': <tf.Tensor 'ExpandDims_1:0' shape=(None, 1) dtype=int64>, 'creatinine_phosphokinase': <tf.Tensor 'ExpandDims_2:0' shape=(None, 1) dtype=int64>, 'diabetes': <tf.Tensor 'ExpandDims_3:0' shape=(None, 1) dtype=int64>, 'ejection_fraction': <tf.Tensor 'ExpandDims_4:0' shape=(None, 1) dtype=int64>, 'high_blood_pressure': <tf.Tensor 'ExpandDims_5:0' shape=(None, 1) dtype=int64>, 'platelets': <tf.Tensor 'ExpandDims_6:0' shape=(None, 1) dtype=float64>, 'serum_creatinine': <tf.Tensor 'ExpandDims_7:0' shape=(None, 1) dtype=float64>, 'serum_sodium': <tf.Tensor 'ExpandDims_8:0' shape=(None, 1) dtype=int64>, 'sex': <tf.Tensor 'ExpandDims_9:0' shape=(None, 1) dtype=int64>, 'smoking': <tf.Tensor 'ExpandDims_10:0' shape=(None, 1) dtype=int64>, 'time': <tf.Tensor 'ExpandDims_11:0' shape=(None, 1) dtype=int64>}\n",
      "Consider rewriting this model with the Functional API.\n",
      "6/6 [==============================] - 1s 52ms/step - loss: 0.6566 - accuracy: 0.6806 - val_loss: 0.5850 - val_accuracy: 0.7083\n",
      "Epoch 2/15\n",
      "6/6 [==============================] - 0s 7ms/step - loss: 0.5481 - accuracy: 0.6859 - val_loss: 0.5471 - val_accuracy: 0.7083\n",
      "Epoch 3/15\n",
      "6/6 [==============================] - 0s 6ms/step - loss: 0.4988 - accuracy: 0.6859 - val_loss: 0.5202 - val_accuracy: 0.7083\n",
      "Epoch 4/15\n",
      "6/6 [==============================] - 0s 7ms/step - loss: 0.4555 - accuracy: 0.6963 - val_loss: 0.4942 - val_accuracy: 0.7083\n",
      "Epoch 5/15\n",
      "6/6 [==============================] - 0s 7ms/step - loss: 0.4051 - accuracy: 0.7644 - val_loss: 0.4727 - val_accuracy: 0.7292\n",
      "Epoch 6/15\n",
      "6/6 [==============================] - 0s 7ms/step - loss: 0.3595 - accuracy: 0.8220 - val_loss: 0.4538 - val_accuracy: 0.8125\n",
      "Epoch 7/15\n",
      "6/6 [==============================] - 0s 8ms/step - loss: 0.3276 - accuracy: 0.8534 - val_loss: 0.4377 - val_accuracy: 0.7500\n",
      "Epoch 8/15\n",
      "6/6 [==============================] - 0s 8ms/step - loss: 0.2866 - accuracy: 0.8743 - val_loss: 0.4246 - val_accuracy: 0.7500\n",
      "Epoch 9/15\n",
      "6/6 [==============================] - 0s 7ms/step - loss: 0.2624 - accuracy: 0.8796 - val_loss: 0.4188 - val_accuracy: 0.7708\n",
      "Epoch 10/15\n",
      "6/6 [==============================] - 0s 7ms/step - loss: 0.2453 - accuracy: 0.9005 - val_loss: 0.4223 - val_accuracy: 0.8125\n",
      "Epoch 11/15\n",
      "6/6 [==============================] - 0s 6ms/step - loss: 0.2245 - accuracy: 0.9110 - val_loss: 0.4171 - val_accuracy: 0.8125\n",
      "Epoch 12/15\n",
      "6/6 [==============================] - 0s 7ms/step - loss: 0.2038 - accuracy: 0.9162 - val_loss: 0.4163 - val_accuracy: 0.8333\n",
      "Epoch 13/15\n",
      "6/6 [==============================] - 0s 7ms/step - loss: 0.1845 - accuracy: 0.9110 - val_loss: 0.4269 - val_accuracy: 0.8125\n",
      "Epoch 14/15\n",
      "6/6 [==============================] - 0s 7ms/step - loss: 0.1772 - accuracy: 0.9162 - val_loss: 0.4257 - val_accuracy: 0.8333\n",
      "Epoch 15/15\n",
      "6/6 [==============================] - 0s 6ms/step - loss: 0.1641 - accuracy: 0.9424 - val_loss: 0.4429 - val_accuracy: 0.7917\n"
     ]
    },
    {
     "data": {
      "text/plain": [
       "<tensorflow.python.keras.callbacks.History at 0x2469b548400>"
      ]
     },
     "execution_count": 23,
     "metadata": {},
     "output_type": "execute_result"
    }
   ],
   "source": [
    "#CREATE, COMPILE AND TRAIN THE MODEL\n",
    "model = tf.keras.Sequential([\n",
    "    feature_layer,\n",
    "    layers.Dense(128, activation='relu'),\n",
    "    layers.Dense(128, activation='relu'),\n",
    "    layers.Dropout(.1),\n",
    "    layers.Dense(1)\n",
    "])\n",
    "\n",
    "model.compile(optimizer='adam',\n",
    "             loss=tf.keras.losses.BinaryCrossentropy(from_logits=True),\n",
    "             metrics=['accuracy'])\n",
    "\n",
    "model.fit(train_ds,\n",
    "          validation_data=valid_ds, \n",
    "          epochs=15)"
   ]
  },
  {
   "cell_type": "code",
   "execution_count": 24,
   "id": "04259720",
   "metadata": {},
   "outputs": [
    {
     "name": "stdout",
     "output_type": "stream",
     "text": [
      "2/2 [==============================] - 0s 4ms/step - loss: 0.4400 - accuracy: 0.8167\n",
      "Accuracy 0.8166666626930237\n"
     ]
    }
   ],
   "source": [
    "loss, accuracy = model.evaluate(test_ds)\n",
    "print('Accuracy', accuracy)"
   ]
  }
 ],
 "metadata": {
  "kernelspec": {
   "display_name": "Python 3",
   "language": "python",
   "name": "python3"
  },
  "language_info": {
   "codemirror_mode": {
    "name": "ipython",
    "version": 3
   },
   "file_extension": ".py",
   "mimetype": "text/x-python",
   "name": "python",
   "nbconvert_exporter": "python",
   "pygments_lexer": "ipython3",
   "version": "3.8.8"
  }
 },
 "nbformat": 4,
 "nbformat_minor": 5
}
